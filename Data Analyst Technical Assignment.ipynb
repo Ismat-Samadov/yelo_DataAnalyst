{
 "cells": [
  {
   "cell_type": "markdown",
   "id": "faccfec7",
   "metadata": {},
   "source": [
    " #  <center> YELO BANK TECHNICAL SKILL TEST 🔔"
   ]
  },
  {
   "cell_type": "markdown",
   "id": "54ef048c",
   "metadata": {},
   "source": [
    "# Task 1 \n",
    "###### (Use loan_data.xlsx  file for Task 1) 📌\n"
   ]
  },
  {
   "cell_type": "markdown",
   "id": "2cf30f11",
   "metadata": {},
   "source": [
    "\n",
    "\n",
    "Title | Definition\n",
    "---|---------\n",
    "`CUSTOMER_NO`| id of costumer\n",
    "`BEGIN_DATE` |  open date of loan\n",
    "`END_DATE` | close date of loan  \n",
    "`CLOSE_DATE` | actual close date of loan\n",
    "`BRANCH_NAME` | name of product\n",
    "`INTEREST_RATE` | loan interest rate(annual)\n",
    "`BIRTH_DATE` |  birth date of customer\n",
    "`PRODUCT_NAME` | name of product\n",
    "`AMOUNT` |  given amount of loan\n",
    "`REMAIN_AMOUNT` | customer's debt to bank\n",
    "`CATEGORY` |  cutomer category (GB -good bank / BB- bad bank) \n",
    "`GSM_NO` |  Mobile Phone \n",
    "\n"
   ]
  },
  {
   "cell_type": "markdown",
   "id": "f4161814",
   "metadata": {},
   "source": [
    " ## <center> Customer Segmentation"
   ]
  },
  {
   "cell_type": "markdown",
   "id": "be35a259",
   "metadata": {},
   "source": [
    "##  1. Data cleaning & Preparation 🧹\n",
    "### Tips for data cleaning : \n",
    " ##### Pay attention  ❗\n",
    "- Data types\n",
    "- Null values\n",
    "- Extreme values\n",
    "- Duplicates\n",
    "- Correct telephone number format (ex.: 994752000000 , numbers should be start with 99475, 99476, 99433 )\n",
    "\n",
    "## 2. EDA ( Exploratory Data Analysis) 📈\n",
    "### Tips :\n",
    "1. Yearly and monthly sales amount and count (using pivot_table func.)\n",
    "2. Active & non-active customer distribution by product names\n",
    "3. Your approach 🙂 (mandatory)\n",
    "\n",
    "## 3. Segmentation for loan offer  🙋🏻🙋🏻‍♂️\n",
    "##### Only these customers are able to take loan:\n",
    "\n",
    "1. Age between 25 and 64\n",
    "2. Category not in \"BB\"\n",
    "3. Branch name not like \"UPA\"\n",
    "4. Don't have active loan or remain amount < 60 %\n",
    "\n",
    "### After defining your segment follow this steps :\n",
    "\n",
    "- Split your segment into Target and Test customers\n",
    "- Test clients should be 10 % of segment\n",
    "- Use stratified sampling method for choosing test clients\n",
    "- Show them as by creating a new column named as \"TYPE\"\n",
    "\n",
    "\n",
    "\n",
    "\n"
   ]
  },
  {
   "cell_type": "markdown",
   "id": "b3c5b442",
   "metadata": {},
   "source": [
    "# <center> Task 2"
   ]
  },
  {
   "cell_type": "markdown",
   "id": "0a325cad",
   "metadata": {},
   "source": [
    "#### SQL task  ==> check attached excel file "
   ]
  },
  {
   "cell_type": "markdown",
   "id": "640f5c10",
   "metadata": {},
   "source": [
    "# <center> Task 3"
   ]
  },
  {
   "cell_type": "markdown",
   "id": "ba3469d8",
   "metadata": {},
   "source": [
    "## Insight Finding 📝"
   ]
  },
  {
   "cell_type": "markdown",
   "id": "877a9080",
   "metadata": {},
   "source": [
    "Analyze and visualize data and present your findings (preferably PPT)"
   ]
  },
  {
   "cell_type": "markdown",
   "id": "ae723b50",
   "metadata": {},
   "source": [
    "Prepare the business proposal using data set provided in PYTHON task. Final presentation need to include following insights:\n",
    "\n",
    "\n",
    "1.\tCustomer Segmentations and their profile (Exp. Customer between age 25-30 majorly set to require loans between X-Y AZN with Z month period)\n",
    "2.\tTop 3 customer segments which can increase sales if targeted properly. (Exp. Students can be targeted during back to school period as they are not targeted properly and have less risk based on data)\n",
    "3.\tThe new bank product to increase the sales and cover customers need. ( Exp. Students credit X AZN with Y period can be attractive and cover majority of customer base.)\n"
   ]
  },
  {
   "cell_type": "markdown",
   "id": "a3a7bff1",
   "metadata": {},
   "source": [
    "###### Note: Business proposal need to be part of business story telling within presentation."
   ]
  },
  {
   "cell_type": "markdown",
   "id": "b6f6c6a5",
   "metadata": {},
   "source": [
    "### <center> GOOD LUCK!"
   ]
  },
  {
   "cell_type": "markdown",
   "id": "d390167c",
   "metadata": {},
   "source": [
    "### <center> THANKS MAN 🤝"
   ]
  },
  {
   "cell_type": "markdown",
   "id": "15f711cb",
   "metadata": {},
   "source": []
  },
  {
   "cell_type": "code",
   "execution_count": null,
   "id": "8a454407",
   "metadata": {},
   "outputs": [],
   "source": []
  },
  {
   "cell_type": "code",
   "execution_count": null,
   "id": "a3632df2",
   "metadata": {},
   "outputs": [],
   "source": []
  },
  {
   "cell_type": "markdown",
   "id": "ea8dfbbc",
   "metadata": {},
   "source": [
    "## Data cleaning & Preparation 🧹"
   ]
  },
  {
   "cell_type": "code",
   "execution_count": 50,
   "id": "952be4af",
   "metadata": {},
   "outputs": [],
   "source": [
    "import pandas as pd\n",
    "import numpy as np\n",
    "import seaborn as sns\n",
    "import matplotlib.pyplot as plt\n",
    "from datetime import datetime\n",
    "\n",
    "%matplotlib inline\n"
   ]
  },
  {
   "cell_type": "code",
   "execution_count": 16,
   "id": "bb7d9365",
   "metadata": {},
   "outputs": [
    {
     "data": {
      "text/html": [
       "<div>\n",
       "<style scoped>\n",
       "    .dataframe tbody tr th:only-of-type {\n",
       "        vertical-align: middle;\n",
       "    }\n",
       "\n",
       "    .dataframe tbody tr th {\n",
       "        vertical-align: top;\n",
       "    }\n",
       "\n",
       "    .dataframe thead th {\n",
       "        text-align: right;\n",
       "    }\n",
       "</style>\n",
       "<table border=\"1\" class=\"dataframe\">\n",
       "  <thead>\n",
       "    <tr style=\"text-align: right;\">\n",
       "      <th></th>\n",
       "      <th>CUSTOMER_NO</th>\n",
       "      <th>BIRTH_DATE</th>\n",
       "      <th>BEGIN_DATE</th>\n",
       "      <th>END_DATE</th>\n",
       "      <th>CLOSE_DATE</th>\n",
       "      <th>BRANCH_NAME</th>\n",
       "      <th>INTEREST_RATE</th>\n",
       "      <th>PRODUCT_NAME</th>\n",
       "      <th>AMOUNT</th>\n",
       "      <th>REMAIN_AMOUNT</th>\n",
       "      <th>CATEGORY</th>\n",
       "      <th>GSM_NO</th>\n",
       "    </tr>\n",
       "  </thead>\n",
       "  <tbody>\n",
       "    <tr>\n",
       "      <th>0</th>\n",
       "      <td>462598</td>\n",
       "      <td>20-03-1984</td>\n",
       "      <td>2021-05-04</td>\n",
       "      <td>2024-05-04</td>\n",
       "      <td>NaT</td>\n",
       "      <td>11S</td>\n",
       "      <td>19.9</td>\n",
       "      <td>İstehlak kredit (Cash)</td>\n",
       "      <td>8000.0</td>\n",
       "      <td>2601.80</td>\n",
       "      <td>GB</td>\n",
       "      <td>994758000022</td>\n",
       "    </tr>\n",
       "    <tr>\n",
       "      <th>1</th>\n",
       "      <td>469638</td>\n",
       "      <td>01-12-1977</td>\n",
       "      <td>2021-06-14</td>\n",
       "      <td>2025-03-14</td>\n",
       "      <td>2023-09-29</td>\n",
       "      <td>11S</td>\n",
       "      <td>19.9</td>\n",
       "      <td>İstehlak kredit (Cash)</td>\n",
       "      <td>9000.0</td>\n",
       "      <td>0.00</td>\n",
       "      <td>GB</td>\n",
       "      <td>994758000023</td>\n",
       "    </tr>\n",
       "    <tr>\n",
       "      <th>2</th>\n",
       "      <td>489282</td>\n",
       "      <td>18-09-1997</td>\n",
       "      <td>2021-09-01</td>\n",
       "      <td>2024-09-01</td>\n",
       "      <td>2022-03-16</td>\n",
       "      <td>11S</td>\n",
       "      <td>18.3</td>\n",
       "      <td>İstehlak kredit (Cash)</td>\n",
       "      <td>7000.0</td>\n",
       "      <td>0.00</td>\n",
       "      <td>GB</td>\n",
       "      <td>994758000025</td>\n",
       "    </tr>\n",
       "    <tr>\n",
       "      <th>3</th>\n",
       "      <td>490443</td>\n",
       "      <td>03-01-1987</td>\n",
       "      <td>2021-09-06</td>\n",
       "      <td>2024-09-06</td>\n",
       "      <td>2023-05-18</td>\n",
       "      <td>11S</td>\n",
       "      <td>20.0</td>\n",
       "      <td>İstehlak kredit (Cash)</td>\n",
       "      <td>5000.0</td>\n",
       "      <td>0.00</td>\n",
       "      <td>GB</td>\n",
       "      <td>994758000026</td>\n",
       "    </tr>\n",
       "    <tr>\n",
       "      <th>4</th>\n",
       "      <td>331469</td>\n",
       "      <td>15-09-1989</td>\n",
       "      <td>2021-09-10</td>\n",
       "      <td>2024-09-10</td>\n",
       "      <td>2021-12-06</td>\n",
       "      <td>11S</td>\n",
       "      <td>17.0</td>\n",
       "      <td>İstehlak kredit (Cash)</td>\n",
       "      <td>24000.0</td>\n",
       "      <td>0.00</td>\n",
       "      <td>GB</td>\n",
       "      <td>994758000027</td>\n",
       "    </tr>\n",
       "    <tr>\n",
       "      <th>...</th>\n",
       "      <td>...</td>\n",
       "      <td>...</td>\n",
       "      <td>...</td>\n",
       "      <td>...</td>\n",
       "      <td>...</td>\n",
       "      <td>...</td>\n",
       "      <td>...</td>\n",
       "      <td>...</td>\n",
       "      <td>...</td>\n",
       "      <td>...</td>\n",
       "      <td>...</td>\n",
       "      <td>...</td>\n",
       "    </tr>\n",
       "    <tr>\n",
       "      <th>20069</th>\n",
       "      <td>522540</td>\n",
       "      <td>06-06-1970</td>\n",
       "      <td>2021-12-10</td>\n",
       "      <td>2024-12-10</td>\n",
       "      <td>2022-08-30</td>\n",
       "      <td>O</td>\n",
       "      <td>18.0</td>\n",
       "      <td>İstehlak kredit (Cash)</td>\n",
       "      <td>14200.0</td>\n",
       "      <td>0.00</td>\n",
       "      <td>GB</td>\n",
       "      <td>NaN</td>\n",
       "    </tr>\n",
       "    <tr>\n",
       "      <th>20070</th>\n",
       "      <td>474877</td>\n",
       "      <td>23-01-1988</td>\n",
       "      <td>2023-09-05</td>\n",
       "      <td>2026-09-05</td>\n",
       "      <td>NaT</td>\n",
       "      <td>O</td>\n",
       "      <td>13.9</td>\n",
       "      <td>İstehlak kredit - Online</td>\n",
       "      <td>17000.0</td>\n",
       "      <td>15995.80</td>\n",
       "      <td>GB</td>\n",
       "      <td>994767003628</td>\n",
       "    </tr>\n",
       "    <tr>\n",
       "      <th>20071</th>\n",
       "      <td>812387</td>\n",
       "      <td>18-01-1998</td>\n",
       "      <td>2023-12-04</td>\n",
       "      <td>2025-12-04</td>\n",
       "      <td>NaT</td>\n",
       "      <td>O</td>\n",
       "      <td>12.9</td>\n",
       "      <td>İstehlak kredit - Online</td>\n",
       "      <td>10000.0</td>\n",
       "      <td>9678.58</td>\n",
       "      <td>GB</td>\n",
       "      <td>NaN</td>\n",
       "    </tr>\n",
       "    <tr>\n",
       "      <th>20072</th>\n",
       "      <td>202641</td>\n",
       "      <td>24-06-1959</td>\n",
       "      <td>2023-08-14</td>\n",
       "      <td>2024-07-14</td>\n",
       "      <td>NaT</td>\n",
       "      <td>O</td>\n",
       "      <td>13.5</td>\n",
       "      <td>Əmanətçi krediti</td>\n",
       "      <td>1500.0</td>\n",
       "      <td>810.51</td>\n",
       "      <td>GB</td>\n",
       "      <td>NaN</td>\n",
       "    </tr>\n",
       "    <tr>\n",
       "      <th>20073</th>\n",
       "      <td>522302</td>\n",
       "      <td>29-10-1989</td>\n",
       "      <td>2022-02-23</td>\n",
       "      <td>2025-02-23</td>\n",
       "      <td>NaT</td>\n",
       "      <td>O</td>\n",
       "      <td>17.0</td>\n",
       "      <td>İstehlak kredit (Cash)</td>\n",
       "      <td>7800.0</td>\n",
       "      <td>3341.76</td>\n",
       "      <td>GB</td>\n",
       "      <td>NaN</td>\n",
       "    </tr>\n",
       "  </tbody>\n",
       "</table>\n",
       "<p>20074 rows × 12 columns</p>\n",
       "</div>"
      ],
      "text/plain": [
       "       CUSTOMER_NO  BIRTH_DATE BEGIN_DATE   END_DATE CLOSE_DATE BRANCH_NAME  \\\n",
       "0           462598  20-03-1984 2021-05-04 2024-05-04        NaT         11S   \n",
       "1           469638  01-12-1977 2021-06-14 2025-03-14 2023-09-29         11S   \n",
       "2           489282  18-09-1997 2021-09-01 2024-09-01 2022-03-16         11S   \n",
       "3           490443  03-01-1987 2021-09-06 2024-09-06 2023-05-18         11S   \n",
       "4           331469  15-09-1989 2021-09-10 2024-09-10 2021-12-06         11S   \n",
       "...            ...         ...        ...        ...        ...         ...   \n",
       "20069       522540  06-06-1970 2021-12-10 2024-12-10 2022-08-30           O   \n",
       "20070       474877  23-01-1988 2023-09-05 2026-09-05        NaT           O   \n",
       "20071       812387  18-01-1998 2023-12-04 2025-12-04        NaT           O   \n",
       "20072       202641  24-06-1959 2023-08-14 2024-07-14        NaT           O   \n",
       "20073       522302  29-10-1989 2022-02-23 2025-02-23        NaT           O   \n",
       "\n",
       "       INTEREST_RATE              PRODUCT_NAME   AMOUNT  REMAIN_AMOUNT  \\\n",
       "0               19.9    İstehlak kredit (Cash)   8000.0        2601.80   \n",
       "1               19.9    İstehlak kredit (Cash)   9000.0           0.00   \n",
       "2               18.3    İstehlak kredit (Cash)   7000.0           0.00   \n",
       "3               20.0    İstehlak kredit (Cash)   5000.0           0.00   \n",
       "4               17.0    İstehlak kredit (Cash)  24000.0           0.00   \n",
       "...              ...                       ...      ...            ...   \n",
       "20069           18.0    İstehlak kredit (Cash)  14200.0           0.00   \n",
       "20070           13.9  İstehlak kredit - Online  17000.0       15995.80   \n",
       "20071           12.9  İstehlak kredit - Online  10000.0        9678.58   \n",
       "20072           13.5         Əmanətçi krediti    1500.0         810.51   \n",
       "20073           17.0    İstehlak kredit (Cash)   7800.0        3341.76   \n",
       "\n",
       "      CATEGORY        GSM_NO  \n",
       "0           GB  994758000022  \n",
       "1           GB  994758000023  \n",
       "2           GB  994758000025  \n",
       "3           GB  994758000026  \n",
       "4           GB  994758000027  \n",
       "...        ...           ...  \n",
       "20069       GB           NaN  \n",
       "20070       GB  994767003628  \n",
       "20071       GB           NaN  \n",
       "20072       GB           NaN  \n",
       "20073       GB           NaN  \n",
       "\n",
       "[20074 rows x 12 columns]"
      ]
     },
     "execution_count": 16,
     "metadata": {},
     "output_type": "execute_result"
    }
   ],
   "source": [
    "df = pd.read_excel('loan_data.xlsx')\n",
    "df"
   ]
  },
  {
   "cell_type": "code",
   "execution_count": 17,
   "id": "2f7b9fc3",
   "metadata": {},
   "outputs": [
    {
     "data": {
      "text/html": [
       "<div>\n",
       "<style scoped>\n",
       "    .dataframe tbody tr th:only-of-type {\n",
       "        vertical-align: middle;\n",
       "    }\n",
       "\n",
       "    .dataframe tbody tr th {\n",
       "        vertical-align: top;\n",
       "    }\n",
       "\n",
       "    .dataframe thead th {\n",
       "        text-align: right;\n",
       "    }\n",
       "</style>\n",
       "<table border=\"1\" class=\"dataframe\">\n",
       "  <thead>\n",
       "    <tr style=\"text-align: right;\">\n",
       "      <th></th>\n",
       "      <th>CUSTOMER_NO</th>\n",
       "      <th>BEGIN_DATE</th>\n",
       "      <th>END_DATE</th>\n",
       "      <th>CLOSE_DATE</th>\n",
       "      <th>INTEREST_RATE</th>\n",
       "      <th>AMOUNT</th>\n",
       "      <th>REMAIN_AMOUNT</th>\n",
       "    </tr>\n",
       "  </thead>\n",
       "  <tbody>\n",
       "    <tr>\n",
       "      <th>count</th>\n",
       "      <td>20074.000000</td>\n",
       "      <td>20074</td>\n",
       "      <td>20074</td>\n",
       "      <td>8744</td>\n",
       "      <td>20074.000000</td>\n",
       "      <td>20074.000000</td>\n",
       "      <td>20074.000000</td>\n",
       "    </tr>\n",
       "    <tr>\n",
       "      <th>mean</th>\n",
       "      <td>518376.961144</td>\n",
       "      <td>2022-11-27 16:06:58.929958912</td>\n",
       "      <td>2025-07-12 18:27:22.004583168</td>\n",
       "      <td>2023-02-06 19:14:46.001829888</td>\n",
       "      <td>16.226243</td>\n",
       "      <td>9938.329899</td>\n",
       "      <td>4292.121747</td>\n",
       "    </tr>\n",
       "    <tr>\n",
       "      <th>min</th>\n",
       "      <td>12702.000000</td>\n",
       "      <td>2021-01-14 00:00:00</td>\n",
       "      <td>2024-02-15 00:00:00</td>\n",
       "      <td>2021-03-09 00:00:00</td>\n",
       "      <td>4.000000</td>\n",
       "      <td>300.000000</td>\n",
       "      <td>0.000000</td>\n",
       "    </tr>\n",
       "    <tr>\n",
       "      <th>25%</th>\n",
       "      <td>404840.500000</td>\n",
       "      <td>2022-05-12 00:00:00</td>\n",
       "      <td>2024-09-12 00:00:00</td>\n",
       "      <td>2022-09-09 00:00:00</td>\n",
       "      <td>14.900000</td>\n",
       "      <td>4000.000000</td>\n",
       "      <td>0.000000</td>\n",
       "    </tr>\n",
       "    <tr>\n",
       "      <th>50%</th>\n",
       "      <td>519707.500000</td>\n",
       "      <td>2023-01-10 00:00:00</td>\n",
       "      <td>2025-05-19 00:00:00</td>\n",
       "      <td>2023-04-06 00:00:00</td>\n",
       "      <td>16.000000</td>\n",
       "      <td>7000.000000</td>\n",
       "      <td>1015.275000</td>\n",
       "    </tr>\n",
       "    <tr>\n",
       "      <th>75%</th>\n",
       "      <td>665035.000000</td>\n",
       "      <td>2023-08-04 00:00:00</td>\n",
       "      <td>2026-03-16 00:00:00</td>\n",
       "      <td>2023-08-31 00:00:00</td>\n",
       "      <td>17.000000</td>\n",
       "      <td>13000.000000</td>\n",
       "      <td>5787.732500</td>\n",
       "    </tr>\n",
       "    <tr>\n",
       "      <th>max</th>\n",
       "      <td>824158.000000</td>\n",
       "      <td>2023-12-30 00:00:00</td>\n",
       "      <td>2028-11-30 00:00:00</td>\n",
       "      <td>2023-12-30 00:00:00</td>\n",
       "      <td>29.000000</td>\n",
       "      <td>200000.000000</td>\n",
       "      <td>105080.830000</td>\n",
       "    </tr>\n",
       "    <tr>\n",
       "      <th>std</th>\n",
       "      <td>184675.378399</td>\n",
       "      <td>NaN</td>\n",
       "      <td>NaN</td>\n",
       "      <td>NaN</td>\n",
       "      <td>2.305223</td>\n",
       "      <td>9229.274894</td>\n",
       "      <td>7251.010323</td>\n",
       "    </tr>\n",
       "  </tbody>\n",
       "</table>\n",
       "</div>"
      ],
      "text/plain": [
       "         CUSTOMER_NO                     BEGIN_DATE  \\\n",
       "count   20074.000000                          20074   \n",
       "mean   518376.961144  2022-11-27 16:06:58.929958912   \n",
       "min     12702.000000            2021-01-14 00:00:00   \n",
       "25%    404840.500000            2022-05-12 00:00:00   \n",
       "50%    519707.500000            2023-01-10 00:00:00   \n",
       "75%    665035.000000            2023-08-04 00:00:00   \n",
       "max    824158.000000            2023-12-30 00:00:00   \n",
       "std    184675.378399                            NaN   \n",
       "\n",
       "                            END_DATE                     CLOSE_DATE  \\\n",
       "count                          20074                           8744   \n",
       "mean   2025-07-12 18:27:22.004583168  2023-02-06 19:14:46.001829888   \n",
       "min              2024-02-15 00:00:00            2021-03-09 00:00:00   \n",
       "25%              2024-09-12 00:00:00            2022-09-09 00:00:00   \n",
       "50%              2025-05-19 00:00:00            2023-04-06 00:00:00   \n",
       "75%              2026-03-16 00:00:00            2023-08-31 00:00:00   \n",
       "max              2028-11-30 00:00:00            2023-12-30 00:00:00   \n",
       "std                              NaN                            NaN   \n",
       "\n",
       "       INTEREST_RATE         AMOUNT  REMAIN_AMOUNT  \n",
       "count   20074.000000   20074.000000   20074.000000  \n",
       "mean       16.226243    9938.329899    4292.121747  \n",
       "min         4.000000     300.000000       0.000000  \n",
       "25%        14.900000    4000.000000       0.000000  \n",
       "50%        16.000000    7000.000000    1015.275000  \n",
       "75%        17.000000   13000.000000    5787.732500  \n",
       "max        29.000000  200000.000000  105080.830000  \n",
       "std         2.305223    9229.274894    7251.010323  "
      ]
     },
     "execution_count": 17,
     "metadata": {},
     "output_type": "execute_result"
    }
   ],
   "source": [
    "df.describe()"
   ]
  },
  {
   "cell_type": "code",
   "execution_count": 20,
   "id": "f90f622a",
   "metadata": {},
   "outputs": [
    {
     "name": "stdout",
     "output_type": "stream",
     "text": [
      "<class 'pandas.core.frame.DataFrame'>\n",
      "RangeIndex: 20074 entries, 0 to 20073\n",
      "Data columns (total 12 columns):\n",
      " #   Column         Non-Null Count  Dtype         \n",
      "---  ------         --------------  -----         \n",
      " 0   CUSTOMER_NO    20074 non-null  int64         \n",
      " 1   BIRTH_DATE     20074 non-null  object        \n",
      " 2   BEGIN_DATE     20074 non-null  datetime64[ns]\n",
      " 3   END_DATE       20074 non-null  datetime64[ns]\n",
      " 4   CLOSE_DATE     8744 non-null   datetime64[ns]\n",
      " 5   BRANCH_NAME    20074 non-null  object        \n",
      " 6   INTEREST_RATE  20074 non-null  float64       \n",
      " 7   PRODUCT_NAME   20074 non-null  object        \n",
      " 8   AMOUNT         20074 non-null  float64       \n",
      " 9   REMAIN_AMOUNT  20074 non-null  float64       \n",
      " 10  CATEGORY       20074 non-null  object        \n",
      " 11  GSM_NO         19036 non-null  object        \n",
      "dtypes: datetime64[ns](3), float64(3), int64(1), object(5)\n",
      "memory usage: 1.8+ MB\n"
     ]
    }
   ],
   "source": [
    "df.info()"
   ]
  },
  {
   "cell_type": "code",
   "execution_count": 21,
   "id": "e82febf9",
   "metadata": {},
   "outputs": [
    {
     "data": {
      "text/plain": [
       "CUSTOMER_NO          0\n",
       "BIRTH_DATE           0\n",
       "BEGIN_DATE           0\n",
       "END_DATE             0\n",
       "CLOSE_DATE       11330\n",
       "BRANCH_NAME          0\n",
       "INTEREST_RATE        0\n",
       "PRODUCT_NAME         0\n",
       "AMOUNT               0\n",
       "REMAIN_AMOUNT        0\n",
       "CATEGORY             0\n",
       "GSM_NO            1038\n",
       "dtype: int64"
      ]
     },
     "execution_count": 21,
     "metadata": {},
     "output_type": "execute_result"
    }
   ],
   "source": [
    "df.isna().sum()"
   ]
  },
  {
   "cell_type": "code",
   "execution_count": 24,
   "id": "3b23892a",
   "metadata": {},
   "outputs": [
    {
     "data": {
      "text/plain": [
       "CUSTOMER_NO               int64\n",
       "BIRTH_DATE               object\n",
       "BEGIN_DATE       datetime64[ns]\n",
       "END_DATE         datetime64[ns]\n",
       "CLOSE_DATE       datetime64[ns]\n",
       "BRANCH_NAME              object\n",
       "INTEREST_RATE           float64\n",
       "PRODUCT_NAME             object\n",
       "AMOUNT                  float64\n",
       "REMAIN_AMOUNT           float64\n",
       "CATEGORY                 object\n",
       "GSM_NO                   object\n",
       "dtype: object"
      ]
     },
     "execution_count": 24,
     "metadata": {},
     "output_type": "execute_result"
    }
   ],
   "source": [
    "df.dtypes"
   ]
  },
  {
   "cell_type": "code",
   "execution_count": 25,
   "id": "9eb919f8",
   "metadata": {},
   "outputs": [
    {
     "name": "stdout",
     "output_type": "stream",
     "text": [
      "\n",
      "Sample values in BIRTH_DATE:\n",
      "0    20-03-1984\n",
      "1    01-12-1977\n",
      "2    18-09-1997\n",
      "3    03-01-1987\n",
      "4    15-09-1989\n",
      "Name: BIRTH_DATE, dtype: object\n",
      "\n",
      "Sample values in BEGIN_DATE:\n",
      "0   2021-05-04\n",
      "1   2021-06-14\n",
      "2   2021-09-01\n",
      "3   2021-09-06\n",
      "4   2021-09-10\n",
      "Name: BEGIN_DATE, dtype: datetime64[ns]\n",
      "\n",
      "Sample values in END_DATE:\n",
      "0   2024-05-04\n",
      "1   2025-03-14\n",
      "2   2024-09-01\n",
      "3   2024-09-06\n",
      "4   2024-09-10\n",
      "Name: END_DATE, dtype: datetime64[ns]\n",
      "\n",
      "Sample values in CLOSE_DATE:\n",
      "0          NaT\n",
      "1   2023-09-29\n",
      "2   2022-03-16\n",
      "3   2023-05-18\n",
      "4   2021-12-06\n",
      "Name: CLOSE_DATE, dtype: datetime64[ns]\n"
     ]
    }
   ],
   "source": [
    "date_columns = ['BIRTH_DATE', 'BEGIN_DATE', 'END_DATE', 'CLOSE_DATE']\n",
    "for col in date_columns:\n",
    "    print(f\"\\nSample values in {col}:\")\n",
    "    print(df[col].head())"
   ]
  },
  {
   "cell_type": "code",
   "execution_count": null,
   "id": "5f0091d5",
   "metadata": {},
   "outputs": [],
   "source": [
    "null_analysis = df.isnull().sum()\n",
    "null_percentages = (df.isnull().sum() / len(df) * 100).round(2)\n",
    "\n",
    "null_summary = pd.DataFrame({\n",
    "    'null count': null_analysis,\n",
    "    'null percentage': null_percentages\n",
    "})\n",
    "print(null_summary)"
   ]
  },
  {
   "cell_type": "code",
   "execution_count": 26,
   "id": "5dbd6ed8",
   "metadata": {},
   "outputs": [
    {
     "name": "stdout",
     "output_type": "stream",
     "text": [
      "=== Phone Number Analysis ===\n",
      "Total records: 20074\n",
      "Missing numbers: 1038\n",
      "Valid format: 18819\n",
      "Invalid format: 217\n",
      "\n",
      "Prefix Distribution:\n",
      "99475 prefix: 7231\n",
      "99476 prefix: 5837\n",
      "99433 prefix: 5751\n"
     ]
    }
   ],
   "source": [
    "def analyze_phone_numbers(df):\n",
    "    valid_phones = df['GSM_NO'].dropna().astype(str)\n",
    "    prefix_99475 = valid_phones.str.startswith('99475').sum()\n",
    "    prefix_99476 = valid_phones.str.startswith('99476').sum()\n",
    "    prefix_99433 = valid_phones.str.startswith('99433').sum()\n",
    "    total_phones = len(df)\n",
    "    missing_phones = df['GSM_NO'].isna().sum()\n",
    "    valid_format = prefix_99475 + prefix_99476 + prefix_99433\n",
    "    invalid_format = len(valid_phones) - valid_format\n",
    "    \n",
    "    print(\"=== Phone Number Analysis ===\")\n",
    "    print(f\"Total records: {total_phones}\")\n",
    "    print(f\"Missing numbers: {missing_phones}\")\n",
    "    print(f\"Valid format: {valid_format}\")\n",
    "    print(f\"Invalid format: {invalid_format}\")\n",
    "    print(\"\\nPrefix Distribution:\")\n",
    "    print(f\"99475 prefix: {prefix_99475}\")\n",
    "    print(f\"99476 prefix: {prefix_99476}\")\n",
    "    print(f\"99433 prefix: {prefix_99433}\")\n",
    "\n",
    "analyze_phone_numbers(df)"
   ]
  },
  {
   "cell_type": "code",
   "execution_count": 42,
   "id": "7c36e04d",
   "metadata": {},
   "outputs": [
    {
     "name": "stdout",
     "output_type": "stream",
     "text": [
      "unique customers: 17160\n",
      "multiple loan customers: 2398\n",
      "count\n",
      "1     14762\n",
      "2      2018\n",
      "3       299\n",
      "4        55\n",
      "5        16\n",
      "6         5\n",
      "7         1\n",
      "8         2\n",
      "9         1\n",
      "17        1\n",
      "Name: count, dtype: int64\n"
     ]
    }
   ],
   "source": [
    "customer_loan_counts = df['CUSTOMER_NO'].value_counts()\n",
    "customers_with_multiple_loans = customer_loan_counts[customer_loan_counts > 1]\n",
    "\n",
    "print(f\"unique customers: {len(customer_loan_counts)}\")\n",
    "print(f\"multiple loan customers: {len(customers_with_multiple_loans)}\")\n",
    "print(customer_loan_counts.value_counts().sort_index())"
   ]
  },
  {
   "cell_type": "code",
   "execution_count": 46,
   "id": "c8ff5935",
   "metadata": {},
   "outputs": [
    {
     "name": "stdout",
     "output_type": "stream",
     "text": [
      "=== outliers ===\n",
      "\n",
      "AMOUNT statistics:\n",
      "count     20074.000000\n",
      "mean       9938.329899\n",
      "std        9229.274894\n",
      "min         300.000000\n",
      "25%        4000.000000\n",
      "50%        7000.000000\n",
      "75%       13000.000000\n",
      "max      200000.000000\n",
      "Name: AMOUNT, dtype: float64\n"
     ]
    },
    {
     "data": {
      "image/png": "[encoded data removed]",
      "text/plain": [
       "<Figure size 1000x400 with 1 Axes>"
      ]
     },
     "metadata": {},
     "output_type": "display_data"
    },
    {
     "name": "stdout",
     "output_type": "stream",
     "text": [
      "\n",
      "INTEREST_RATE statistics:\n",
      "count    20074.000000\n",
      "mean        16.226243\n",
      "std          2.305223\n",
      "min          4.000000\n",
      "25%         14.900000\n",
      "50%         16.000000\n",
      "75%         17.000000\n",
      "max         29.000000\n",
      "Name: INTEREST_RATE, dtype: float64\n"
     ]
    },
    {
     "data": {
      "image/png": "[encoded data removed]",
      "text/plain": [
       "<Figure size 1000x400 with 1 Axes>"
      ]
     },
     "metadata": {},
     "output_type": "display_data"
    },
    {
     "name": "stdout",
     "output_type": "stream",
     "text": [
      "\n",
      "REMAIN_AMOUNT statistics:\n",
      "count     20074.000000\n",
      "mean       4292.121747\n",
      "std        7251.010323\n",
      "min           0.000000\n",
      "25%           0.000000\n",
      "50%        1015.275000\n",
      "75%        5787.732500\n",
      "max      105080.830000\n",
      "Name: REMAIN_AMOUNT, dtype: float64\n"
     ]
    },
    {
     "data": {
      "image/png": "[encoded data removed]",
      "text/plain": [
       "<Figure size 1000x400 with 1 Axes>"
      ]
     },
     "metadata": {},
     "output_type": "display_data"
    }
   ],
   "source": [
    "numeric_columns = ['AMOUNT', 'INTEREST_RATE', 'REMAIN_AMOUNT']\n",
    "\n",
    "print(\"=== outliers ===\")\n",
    "for col in numeric_columns:\n",
    "    print(f\"\\n{col} statistics:\")\n",
    "    print(df[col].describe())\n",
    "    \n",
    "    plt.figure(figsize=(10, 4))\n",
    "    plt.title(f\"distribution of {col}\")\n",
    "    sns.boxplot(x=df[col])\n",
    "    plt.show()"
   ]
  },
  {
   "cell_type": "code",
   "execution_count": null,
   "id": "0dc4fe5d",
   "metadata": {},
   "outputs": [
    {
     "data": {
      "image/png": "[encoded data removed]",
      "text/plain": [
       "<Figure size 1500x500 with 3 Axes>"
      ]
     },
     "metadata": {},
     "output_type": "display_data"
    }
   ],
   "source": [
    "plt.figure(figsize=(15, 5))\n",
    "\n",
    "# amount \n",
    "plt.subplot(1, 3, 1)\n",
    "plt.hist(df['AMOUNT'], bins=50)\n",
    "plt.title('Loan Amount Distribution')\n",
    "plt.xlabel('Amount')\n",
    "plt.ylabel('Frequency')\n",
    "\n",
    "# interest rate\n",
    "plt.subplot(1, 3, 2)\n",
    "plt.hist(df['INTEREST_RATE'], bins=20)\n",
    "plt.title('Interest Rate Distribution')\n",
    "plt.xlabel('Interest Rate')\n",
    "plt.ylabel('Frequency')\n",
    "\n",
    "# remain amount\n",
    "plt.subplot(1, 3, 3)\n",
    "plt.hist(df['REMAIN_AMOUNT'], bins=50)\n",
    "plt.title('Remain Amount Distribution')\n",
    "plt.xlabel('Remain Amount')\n",
    "plt.ylabel('Frequency')\n",
    "\n",
    "plt.tight_layout()\n",
    "plt.show()"
   ]
  },
  {
   "cell_type": "code",
   "execution_count": 48,
   "id": "043092d5",
   "metadata": {},
   "outputs": [
    {
     "name": "stdout",
     "output_type": "stream",
     "text": [
      "\n",
      "Outliers in AMOUNT:\n",
      "Number of outliers: 1162\n",
      "Percentage of outliers: 5.79%\n",
      "\n",
      "Outliers in INTEREST_RATE:\n",
      "Number of outliers: 1825\n",
      "Percentage of outliers: 9.09%\n",
      "\n",
      "Outliers in REMAIN_AMOUNT:\n",
      "Number of outliers: 1624\n",
      "Percentage of outliers: 8.09%\n"
     ]
    }
   ],
   "source": [
    "def identify_outliers(df, column):\n",
    "    Q1 = df[column].quantile(0.25)\n",
    "    Q3 = df[column].quantile(0.75)\n",
    "    IQR = Q3 - Q1\n",
    "    return df[(df[column] < (Q1 - 1.5 * IQR)) | (df[column] > (Q3 + 1.5 * IQR))][column]\n",
    "\n",
    "# Print outlier summary for each variable\n",
    "for column in ['AMOUNT', 'INTEREST_RATE', 'REMAIN_AMOUNT']:\n",
    "    outliers = identify_outliers(df, column)\n",
    "    print(f\"\\nOutliers in {column}:\")\n",
    "    print(f\"Number of outliers: {len(outliers)}\")\n",
    "    print(f\"Percentage of outliers: {(len(outliers)/len(df))*100:.2f}%\")"
   ]
  },
  {
   "cell_type": "code",
   "execution_count": 35,
   "id": "e43fd0de",
   "metadata": {},
   "outputs": [
    {
     "data": {
      "text/html": [
       "<div>\n",
       "<style scoped>\n",
       "    .dataframe tbody tr th:only-of-type {\n",
       "        vertical-align: middle;\n",
       "    }\n",
       "\n",
       "    .dataframe tbody tr th {\n",
       "        vertical-align: top;\n",
       "    }\n",
       "\n",
       "    .dataframe thead th {\n",
       "        text-align: right;\n",
       "    }\n",
       "</style>\n",
       "<table border=\"1\" class=\"dataframe\">\n",
       "  <thead>\n",
       "    <tr style=\"text-align: right;\">\n",
       "      <th></th>\n",
       "      <th>Metric</th>\n",
       "      <th>Value</th>\n",
       "    </tr>\n",
       "  </thead>\n",
       "  <tbody>\n",
       "    <tr>\n",
       "      <th>0</th>\n",
       "      <td>Total Records</td>\n",
       "      <td>20074.00</td>\n",
       "    </tr>\n",
       "    <tr>\n",
       "      <th>1</th>\n",
       "      <td>Missing Phone Numbers</td>\n",
       "      <td>1038.00</td>\n",
       "    </tr>\n",
       "    <tr>\n",
       "      <th>2</th>\n",
       "      <td>Invalid Phone Format</td>\n",
       "      <td>217.00</td>\n",
       "    </tr>\n",
       "    <tr>\n",
       "      <th>3</th>\n",
       "      <td>Customers with Multiple Loans</td>\n",
       "      <td>2398.00</td>\n",
       "    </tr>\n",
       "    <tr>\n",
       "      <th>4</th>\n",
       "      <td>Min Loan Amount</td>\n",
       "      <td>300.00</td>\n",
       "    </tr>\n",
       "    <tr>\n",
       "      <th>5</th>\n",
       "      <td>Max Loan Amount</td>\n",
       "      <td>200000.00</td>\n",
       "    </tr>\n",
       "    <tr>\n",
       "      <th>6</th>\n",
       "      <td>Min Interest Rate</td>\n",
       "      <td>4.00</td>\n",
       "    </tr>\n",
       "    <tr>\n",
       "      <th>7</th>\n",
       "      <td>Max Interest Rate</td>\n",
       "      <td>29.00</td>\n",
       "    </tr>\n",
       "    <tr>\n",
       "      <th>8</th>\n",
       "      <td>Min Remain Amount</td>\n",
       "      <td>0.00</td>\n",
       "    </tr>\n",
       "    <tr>\n",
       "      <th>9</th>\n",
       "      <td>Max Remain Amount</td>\n",
       "      <td>105080.83</td>\n",
       "    </tr>\n",
       "  </tbody>\n",
       "</table>\n",
       "</div>"
      ],
      "text/plain": [
       "                          Metric      Value\n",
       "0                  Total Records   20074.00\n",
       "1          Missing Phone Numbers    1038.00\n",
       "2           Invalid Phone Format     217.00\n",
       "3  Customers with Multiple Loans    2398.00\n",
       "4                Min Loan Amount     300.00\n",
       "5                Max Loan Amount  200000.00\n",
       "6              Min Interest Rate       4.00\n",
       "7              Max Interest Rate      29.00\n",
       "8              Min Remain Amount       0.00\n",
       "9              Max Remain Amount  105080.83"
      ]
     },
     "execution_count": 35,
     "metadata": {},
     "output_type": "execute_result"
    }
   ],
   "source": [
    "summary_stats = pd.DataFrame({\n",
    "    'Metric': [\n",
    "        'Total Records',\n",
    "        'Missing Phone Numbers',\n",
    "        'Invalid Phone Format',\n",
    "        'Customers with Multiple Loans',\n",
    "        'Min Loan Amount',\n",
    "        'Max Loan Amount',\n",
    "        'Min Interest Rate',\n",
    "        'Max Interest Rate',\n",
    "        'Min Remain Amount',\n",
    "        'Max Remain Amount'\n",
    "    ],\n",
    "    'Value': [\n",
    "        len(df),\n",
    "        df['GSM_NO'].isna().sum(),\n",
    "        len(df['GSM_NO'].dropna()) - (df['GSM_NO'].astype(str).str.startswith('99475').sum() + \n",
    "                                     df['GSM_NO'].astype(str).str.startswith('99476').sum() + \n",
    "                                     df['GSM_NO'].astype(str).str.startswith('99433').sum()),\n",
    "        len(customers_with_multiple_loans),\n",
    "        df['AMOUNT'].min(),\n",
    "        df['AMOUNT'].max(),\n",
    "        df['INTEREST_RATE'].min(),\n",
    "        df['INTEREST_RATE'].max(),\n",
    "        df['REMAIN_AMOUNT'].min(),\n",
    "        df['REMAIN_AMOUNT'].max()\n",
    "    ]\n",
    "})\n",
    "\n",
    "pd.DataFrame(summary_stats)"
   ]
  },
  {
   "cell_type": "code",
   "execution_count": null,
   "id": "4c791622",
   "metadata": {},
   "outputs": [],
   "source": []
  },
  {
   "cell_type": "code",
   "execution_count": null,
   "id": "b2c20c1d",
   "metadata": {},
   "outputs": [],
   "source": []
  },
  {
   "cell_type": "markdown",
   "id": "c1136260",
   "metadata": {},
   "source": [
    "## EDA ( Exploratory Data Analysis) 📈"
   ]
  },
  {
   "cell_type": "code",
   "execution_count": 51,
   "id": "d388628b",
   "metadata": {},
   "outputs": [],
   "source": [
    "date_columns = ['BIRTH_DATE', 'BEGIN_DATE', 'END_DATE', 'CLOSE_DATE']\n",
    "for col in date_columns:\n",
    "    df[col] = pd.to_datetime(df[col])"
   ]
  },
  {
   "cell_type": "markdown",
   "id": "73832f6d",
   "metadata": {},
   "source": [
    "### Yearly and monthly sales analysis using pivot_table\n"
   ]
  },
  {
   "cell_type": "code",
   "execution_count": 56,
   "id": "4e2cbafe",
   "metadata": {},
   "outputs": [
    {
     "name": "stdout",
     "output_type": "stream",
     "text": [
      "Yearly Analysis:\n",
      "      Total Amount  Number of Loans\n",
      "Year                               \n",
      "2021    32825320.0             3098\n",
      "2022    64071831.0             6837\n",
      "2023   102604883.4            10139\n"
     ]
    }
   ],
   "source": [
    "df['Year'] = df['BEGIN_DATE'].dt.year\n",
    "df['Month'] = df['BEGIN_DATE'].dt.month\n",
    "\n",
    "#  pivot table \n",
    "yearly_analysis = pd.pivot_table(df, \n",
    "                               values=['AMOUNT', 'CUSTOMER_NO'],\n",
    "                               index='Year',\n",
    "                               aggfunc={'AMOUNT': 'sum', 'CUSTOMER_NO': 'count'})\n",
    "yearly_analysis.columns = ['Total Amount', 'Number of Loans']\n",
    "print(\"Yearly Analysis:\")\n",
    "print(yearly_analysis)\n",
    "\n",
    "# Create pivot table for monthly analysis\n",
    "monthly_analysis = pd.pivot_table(df, \n",
    "                                values=['AMOUNT', 'CUSTOMER_NO'],\n",
    "                                index=['Year', 'Month'],\n",
    "                                aggfunc={'AMOUNT': 'sum', 'CUSTOMER_NO': 'count'})\n",
    "monthly_analysis.columns = ['Total Amount', 'Number of Loans']"
   ]
  },
  {
   "cell_type": "markdown",
   "id": "0ff760c2",
   "metadata": {},
   "source": [
    "### Active & non-active customer distribution by product names"
   ]
  },
  {
   "cell_type": "code",
   "execution_count": 57,
   "id": "dddfa6c0",
   "metadata": {},
   "outputs": [
    {
     "name": "stdout",
     "output_type": "stream",
     "text": [
      "Loan Status Distribution by Product:\n",
      "Loan_Status               Active  Closed\n",
      "PRODUCT_NAME                            \n",
      "İstehlak kredit (Cash)      7128    7193\n",
      "İstehlak kredit - Online    3674    1311\n",
      "İstehlak krediti              21      22\n",
      "Əmanətçi krediti             507     218\n"
     ]
    },
    {
     "data": {
      "text/plain": [
       "<Figure size 1200x600 with 0 Axes>"
      ]
     },
     "metadata": {},
     "output_type": "display_data"
    },
    {
     "data": {
      "image/png": "[encoded data removed]",
      "text/plain": [
       "<Figure size 640x480 with 1 Axes>"
      ]
     },
     "metadata": {},
     "output_type": "display_data"
    }
   ],
   "source": [
    "# loan status\n",
    "df['Loan_Status'] = 'Active'\n",
    "df.loc[df['CLOSE_DATE'].notna(), 'Loan_Status'] = 'Closed'\n",
    "\n",
    "# pivot table for loan status by product\n",
    "loan_status_by_product = pd.pivot_table(df,\n",
    "                                      values='CUSTOMER_NO',\n",
    "                                      index='PRODUCT_NAME',\n",
    "                                      columns='Loan_Status',\n",
    "                                      aggfunc='count',\n",
    "                                      fill_value=0)\n",
    "\n",
    "print(\"Loan Status Distribution by Product:\")\n",
    "print(loan_status_by_product)\n",
    "\n",
    "# visualization\n",
    "plt.figure(figsize=(12, 6))\n",
    "loan_status_by_product.plot(kind='bar', stacked=True)\n",
    "plt.title('Loan Status Distribution by Product')\n",
    "plt.xlabel('Product Name')\n",
    "plt.ylabel('Number of Loans')\n",
    "plt.xticks(rotation=45)\n",
    "plt.tight_layout()\n",
    "plt.show()"
   ]
  },
  {
   "cell_type": "markdown",
   "id": "6f3f5133",
   "metadata": {},
   "source": [
    "### Additional analysis - Interest Rate Distribution by Product"
   ]
  },
  {
   "cell_type": "code",
   "execution_count": 59,
   "id": "e42ec685",
   "metadata": {},
   "outputs": [
    {
     "data": {
      "image/png": "[encoded data removed]",
      "text/plain": [
       "<Figure size 1200x600 with 1 Axes>"
      ]
     },
     "metadata": {},
     "output_type": "display_data"
    },
    {
     "name": "stdout",
     "output_type": "stream",
     "text": [
      "\n",
      "average loan amount by product:\n",
      "                                  mean  count\n",
      "PRODUCT_NAME                                 \n",
      "İstehlak kredit (Cash)    10082.026534  14321\n",
      "İstehlak kredit - Online   9457.633581   4985\n",
      "İstehlak krediti          35473.255814     43\n",
      "Əmanətçi krediti           8890.591724    725\n"
     ]
    }
   ],
   "source": [
    "plt.figure(figsize=(12, 6))\n",
    "sns.boxplot(data=df, x='PRODUCT_NAME', y='INTEREST_RATE')\n",
    "plt.xticks(rotation=45)\n",
    "plt.title('Interest Rate Distribution by Product')\n",
    "plt.tight_layout()\n",
    "plt.show()\n",
    "\n",
    "# average loan amount by product\n",
    "avg_amount_by_product = df.groupby('PRODUCT_NAME')['AMOUNT'].agg(['mean', 'count'])\n",
    "print(\"\\naverage loan amount by product:\")\n",
    "print(avg_amount_by_product)"
   ]
  },
  {
   "cell_type": "markdown",
   "id": "9ef67291",
   "metadata": {},
   "source": [
    "### customer segmentation"
   ]
  },
  {
   "cell_type": "code",
   "execution_count": 65,
   "id": "1beb4e74",
   "metadata": {},
   "outputs": [
    {
     "name": "stdout",
     "output_type": "stream",
     "text": [
      "all customers: 20074\n",
      "eligible customers: 11615\n"
     ]
    }
   ],
   "source": [
    "# age\n",
    "df['AGE'] = (datetime.now() - df['BIRTH_DATE']).dt.days / 365.25\n",
    "\n",
    "df['REMAIN_PERCENTAGE'] = (df['REMAIN_AMOUNT'] / df['AMOUNT']) * 100\n",
    "\n",
    "# segmentation criteria\n",
    "eligible_customers = df[\n",
    "    (df['AGE'] >= 25) & \n",
    "    (df['AGE'] <= 64) &\n",
    "    (df['CATEGORY'] != 'BB') &\n",
    "    (df['BRANCH_NAME'] != 'UPA') &\n",
    "    ((df['Loan_Status'] == 'Closed') | (df['REMAIN_PERCENTAGE'] < 60))\n",
    "].copy()\n",
    "\n",
    "print(\"all customers:\", len(df))\n",
    "print(\"eligible customers:\", len(eligible_customers))"
   ]
  },
  {
   "cell_type": "code",
   "execution_count": null,
   "id": "208d7a92",
   "metadata": {},
   "outputs": [],
   "source": [
    "# Prepare for stratified sampling\n",
    "from sklearn.model_selection import train_test_split\n",
    "\n",
    "# Create stratification features\n",
    "eligible_customers['AGE_GROUP'] = pd.qcut(eligible_customers['AGE'], q=5, labels=['A', 'B', 'C', 'D', 'E'])\n",
    "eligible_customers['AMOUNT_GROUP'] = pd.qcut(eligible_customers['AMOUNT'], q=5, labels=['1', '2', '3', '4', '5'])\n",
    "\n",
    "# Combine features for better stratification\n",
    "eligible_customers['STRAT_GROUP'] = eligible_customers['AGE_GROUP'] + eligible_customers['AMOUNT_GROUP']\n",
    "\n",
    "# Split into target and test groups\n",
    "target_group, test_group = train_test_split(\n",
    "    eligible_customers,\n",
    "    test_size=0.1,\n",
    "    stratify=eligible_customers['STRAT_GROUP'],\n",
    "    random_state=42\n",
    ")\n",
    "\n",
    "# Add TYPE column\n",
    "target_group['TYPE'] = 'TARGET'\n",
    "test_group['TYPE'] = 'TEST'\n",
    "\n",
    "# Combine back and clean up\n",
    "final_df = pd.concat([target_group, test_group])\n",
    "final_df = final_df.drop(['AGE_GROUP', 'AMOUNT_GROUP', 'STRAT_GROUP'], axis=1)\n",
    "\n",
    "# Verify the split\n",
    "print(\"\\nFinal Distribution:\")\n",
    "print(final_df['TYPE'].value_counts(normalize=True))\n",
    "\n",
    "# Save the results\n",
    "final_df.to_excel('segmented_customers.xlsx', index=False)"
   ]
  },
  {
   "cell_type": "code",
   "execution_count": null,
   "id": "c69e34f1",
   "metadata": {},
   "outputs": [],
   "source": []
  },
  {
   "cell_type": "code",
   "execution_count": null,
   "id": "171aebae",
   "metadata": {},
   "outputs": [],
   "source": []
  },
  {
   "cell_type": "code",
   "execution_count": null,
   "id": "1db677d8",
   "metadata": {},
   "outputs": [],
   "source": []
  }
 ],
 "metadata": {
  "kernelspec": {
   "display_name": ".venv",
   "language": "python",
   "name": "python3"
  },
  "language_info": {
   "codemirror_mode": {
    "name": "ipython",
    "version": 3
   },
   "file_extension": ".py",
   "mimetype": "text/x-python",
   "name": "python",
   "nbconvert_exporter": "python",
   "pygments_lexer": "ipython3",
   "version": "3.13.1"
  }
 },
 "nbformat": 4,
 "nbformat_minor": 5
}
