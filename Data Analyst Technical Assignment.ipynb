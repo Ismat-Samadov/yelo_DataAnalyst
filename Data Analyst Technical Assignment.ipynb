{
 "cells": [
  {
   "cell_type": "markdown",
   "id": "faccfec7",
   "metadata": {},
   "source": [
    " #  <center> YELO BANK TECHNICAL SKILL TEST 🔔"
   ]
  },
  {
   "cell_type": "markdown",
   "id": "54ef048c",
   "metadata": {},
   "source": [
    "# Task 1 \n",
    "###### (Use loan_data.xlsx  file for Task 1) 📌\n"
   ]
  },
  {
   "cell_type": "markdown",
   "id": "2cf30f11",
   "metadata": {},
   "source": [
    "\n",
    "\n",
    "Title | Definition\n",
    "---|---------\n",
    "`CUSTOMER_NO`| id of costumer\n",
    "`BEGIN_DATE` |  open date of loan\n",
    "`END_DATE` | close date of loan  \n",
    "`CLOSE_DATE` | actual close date of loan\n",
    "`BRANCH_NAME` | name of product\n",
    "`INTEREST_RATE` | loan interest rate(annual)\n",
    "`BIRTH_DATE` |  birth date of customer\n",
    "`PRODUCT_NAME` | name of product\n",
    "`AMOUNT` |  given amount of loan\n",
    "`REMAIN_AMOUNT` | customer's debt to bank\n",
    "`CATEGORY` |  cutomer category (GB -good bank / BB- bad bank) \n",
    "`GSM_NO` |  Mobile Phone \n",
    "\n"
   ]
  },
  {
   "cell_type": "markdown",
   "id": "f4161814",
   "metadata": {},
   "source": [
    " ## <center> Customer Segmentation"
   ]
  },
  {
   "cell_type": "markdown",
   "id": "be35a259",
   "metadata": {},
   "source": [
    "##  1. Data cleaning & Preparation 🧹\n",
    "### Tips for data cleaning : \n",
    " ##### Pay attention  ❗\n",
    "- Data types\n",
    "- Null values\n",
    "- Extreme values\n",
    "- Duplicates\n",
    "- Correct telephone number format (ex.: 994752000000 , numbers should be start with 99475, 99476, 99433 )\n",
    "\n",
    "## 2. EDA ( Exploratory Data Analysis) 📈\n",
    "### Tips :\n",
    "1. Yearly and monthly sales amount and count (using pivot_table func.)\n",
    "2. Active & non-active customer distribution by product names\n",
    "3. Your approach 🙂 (mandatory)\n",
    "\n",
    "## 3. Segmentation for loan offer  🙋🏻🙋🏻‍♂️\n",
    "##### Only these customers are able to take loan:\n",
    "\n",
    "1. Age between 25 and 64\n",
    "2. Category not in \"BB\"\n",
    "3. Branch name not like \"UPA\"\n",
    "4. Don't have active loan or remain amount < 60 %\n",
    "\n",
    "### After defining your segment follow this steps :\n",
    "\n",
    "- Split your segment into Target and Test customers\n",
    "- Test clients should be 10 % of segment\n",
    "- Use stratified sampling method for choosing test clients\n",
    "- Show them as by creating a new column named as \"TYPE\"\n",
    "\n",
    "\n",
    "\n",
    "\n"
   ]
  },
  {
   "cell_type": "markdown",
   "id": "b3c5b442",
   "metadata": {},
   "source": [
    "# <center> Task 2"
   ]
  },
  {
   "cell_type": "markdown",
   "id": "0a325cad",
   "metadata": {},
   "source": [
    "#### SQL task  ==> check attached excel file "
   ]
  },
  {
   "cell_type": "markdown",
   "id": "640f5c10",
   "metadata": {},
   "source": [
    "# <center> Task 3"
   ]
  },
  {
   "cell_type": "markdown",
   "id": "ba3469d8",
   "metadata": {},
   "source": [
    "## Insight Finding 📝"
   ]
  },
  {
   "cell_type": "markdown",
   "id": "877a9080",
   "metadata": {},
   "source": [
    "Analyze and visualize data and present your findings (preferably PPT)"
   ]
  },
  {
   "cell_type": "markdown",
   "id": "ae723b50",
   "metadata": {},
   "source": [
    "Prepare the business proposal using data set provided in PYTHON task. Final presentation need to include following insights:\n",
    "\n",
    "\n",
    "1.\tCustomer Segmentations and their profile (Exp. Customer between age 25-30 majorly set to require loans between X-Y AZN with Z month period)\n",
    "2.\tTop 3 customer segments which can increase sales if targeted properly. (Exp. Students can be targeted during back to school period as they are not targeted properly and have less risk based on data)\n",
    "3.\tThe new bank product to increase the sales and cover customers need. ( Exp. Students credit X AZN with Y period can be attractive and cover majority of customer base.)\n"
   ]
  },
  {
   "cell_type": "markdown",
   "id": "a3a7bff1",
   "metadata": {},
   "source": [
    "###### Note: Business proposal need to be part of business story telling within presentation."
   ]
  },
  {
   "cell_type": "markdown",
   "id": "b6f6c6a5",
   "metadata": {},
   "source": [
    "### <center> GOOD LUCK!"
   ]
  }
 ],
 "metadata": {
  "kernelspec": {
   "display_name": "Python 3 (ipykernel)",
   "language": "python",
   "name": "python3"
  },
  "language_info": {
   "codemirror_mode": {
    "name": "ipython",
    "version": 3
   },
   "file_extension": ".py",
   "mimetype": "text/x-python",
   "name": "python",
   "nbconvert_exporter": "python",
   "pygments_lexer": "ipython3",
   "version": "3.10.9"
  }
 },
 "nbformat": 4,
 "nbformat_minor": 5
}
